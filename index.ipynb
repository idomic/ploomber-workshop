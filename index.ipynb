{
 "cells": [
  {
   "cell_type": "markdown",
   "id": "1b22fe53",
   "metadata": {},
   "source": [
    "# Ploomber Workshop Material\n",
    "\n",
    "## 1. Introduction\n",
    "\n",
    "Notebooks are an excellent environment for data exploration: they allow us to write code interactively and get visual feedback, providing an unbeatable experience for understanding our data.\n",
    "\n",
    "However, this convenience comes at a cost: if we are not careful about adding and removing code cells, we may have an irreproducible notebook. Arbitrary execution order is a prevalent problem: A [recent analysis](https://blog.jetbrains.com/datalore/2020/12/17/we-downloaded-10-000-000-jupyter-notebooks-from-github-this-is-what-we-learned/) found that about 36% of notebooks on GitHub did not execute in linear order. To ensure our notebooks run, we must continuously test them to catch these problems.\n",
    "\n",
    "A second notable problem is the size of notebooks: the more cells we have, the more difficult it is to debug since there are more variables and code involved.\n",
    "\n",
    "Software engineers typically break down projects into multiple steps and test continuously to prevent broken and unmaintainable code. However, applying these ideas for data analysis requires extra work: multiple notebooks imply we have to ensure the output from one stage becomes the input for the next one. Furthermore, we can no longer press \"Run all cells\" in Jupyter to test our analysis from start to finish.\n",
    "\n",
    "**Ploomber provides all the necessary tools to build multi-stage, reproducible pipelines in Jupyter that feel like a single notebook.** Users can easily break down their analysis into multiple notebooks and execute them all with a single command."
   ]
  },
  {
   "cell_type": "markdown",
   "id": "fe77bb43",
   "metadata": {},
   "source": [
    "## 2. Refactoring a legacy notebook\n",
    "\n",
    "If you already have a project in a single notebook, you can use our tool [Soorgeon](https://github.com/ploomber/soorgeon) to automatically refactor it into a [Ploomber](https://github.com/ploomber/ploomber) pipeline.\n",
    "Since we'll be working with the `playground/` folder, we can set it to be the context.\n",
    "Let's use the sample notebook in the `playground/` directory:"
   ]
  },
  {
   "cell_type": "code",
   "execution_count": 1,
   "id": "bc601dc9-4b1c-4494-afd7-ef2fc4fb8472",
   "metadata": {},
   "outputs": [
    {
     "name": "stdout",
     "output_type": "stream",
     "text": [
      "/home/jovyan/ploomber-workshop/playground\n"
     ]
    }
   ],
   "source": [
    "%cd playground"
   ]
  },
  {
   "cell_type": "code",
   "execution_count": 2,
   "id": "507f5d8e",
   "metadata": {},
   "outputs": [
    {
     "name": "stdout",
     "output_type": "stream",
     "text": [
      "nb.ipynb\n",
      "output\n",
      "pipeline.png\n",
      "pipeline.yaml\n",
      "README.md\n",
      "requirements.txt\n",
      "tasks\n"
     ]
    }
   ],
   "source": [
    "%%sh\n",
    "ls"
   ]
  },
  {
   "cell_type": "markdown",
   "id": "00211237",
   "metadata": {},
   "source": [
    "Our sample notebook is the [`nb.ipynb`](playground/nb.ipynb) file, let's take a look at it.\n",
    "\n",
    "To refactor the notebook, we use the `soorgeon refactor` command:"
   ]
  },
  {
   "cell_type": "code",
   "execution_count": 15,
   "id": "3e940c8f",
   "metadata": {},
   "outputs": [
    {
     "name": "stdout",
     "output_type": "stream",
     "text": [
      "Added 'output' directory to .gitignore...\n",
      "README.md found, appended auto-generated content\n",
      "Finished refactoring 'nb.ipynb', use Ploomber to continue.\n",
      "\n",
      "Install dependencies (this will install ploomber):\n",
      "    $ pip install -r requirements.txt\n",
      "\n",
      "List tasks:\n",
      "    $ ploomber status\n",
      "\n",
      "Execute pipeline:\n",
      "    $ ploomber build\n",
      "\n",
      "Plot pipeline (this requires pygraphviz, which isn't installed by default):\n",
      "    $ ploomber plot\n",
      "\n",
      "* Documentation: https://docs.ploomber.io\n",
      "* Jupyter integration: https://ploomber.io/s/jupyter\n",
      "* Other editors: https://ploomber.io/s/editors\n",
      "\n"
     ]
    }
   ],
   "source": [
    "%%sh\n",
    "soorgeon refactor nb.ipynb --file-format py"
   ]
  },
  {
   "cell_type": "markdown",
   "id": "df1e4374",
   "metadata": {},
   "source": [
    "Let's take a look at the directory:"
   ]
  },
  {
   "cell_type": "code",
   "execution_count": 4,
   "id": "606945da",
   "metadata": {},
   "outputs": [
    {
     "name": "stdout",
     "output_type": "stream",
     "text": [
      "nb.ipynb\n",
      "output\n",
      "pipeline.png\n",
      "pipeline.yaml\n",
      "README.md\n",
      "requirements.txt\n",
      "tasks\n"
     ]
    }
   ],
   "source": [
    "%%sh\n",
    "ls "
   ]
  },
  {
   "cell_type": "markdown",
   "id": "68a85e15",
   "metadata": {},
   "source": [
    "We can see that we have a few new files. `pipeline.yaml` contains the pipeline declaration, and `tasks/` contains the *stages* that Soorgeon identified based on our H2 Markdown headings."
   ]
  },
  {
   "cell_type": "code",
   "execution_count": 5,
   "id": "638a1b3b",
   "metadata": {},
   "outputs": [
    {
     "name": "stdout",
     "output_type": "stream",
     "text": [
      "clean.ipynb\n",
      "linear-regression.ipynb\n",
      "load.ipynb\n",
      "random-forest-regressor.ipynb\n",
      "train-test-split.ipynb\n"
     ]
    }
   ],
   "source": [
    "%%sh\n",
    "ls tasks"
   ]
  },
  {
   "cell_type": "markdown",
   "id": "31dbaa0d",
   "metadata": {},
   "source": [
    "Let's plot the pipeline (note that we're now using `ploomber`, which is the framework for developing pipelines:"
   ]
  },
  {
   "cell_type": "code",
   "execution_count": 6,
   "id": "a11b6f57",
   "metadata": {},
   "outputs": [
    {
     "name": "stdout",
     "output_type": "stream",
     "text": [
      "Loading pipeline...\n",
      "There's a new Ploomber version available (0.18), you're running 0.17.2. To upgrade: pip install ploomber --upgrade\n",
      "Plot saved at: pipeline.png\n"
     ]
    },
    {
     "name": "stderr",
     "output_type": "stream",
     "text": [
      "100%|██████████| 5/5 [00:00<00:00, 16396.81it/s]\n"
     ]
    }
   ],
   "source": [
    "%%sh\n",
    "ploomber plot"
   ]
  },
  {
   "cell_type": "code",
   "execution_count": 7,
   "id": "7199245b",
   "metadata": {},
   "outputs": [
    {
     "data": {
      "image/png": "[encoded data removed]",
      "text/plain": [
       "<IPython.core.display.Image object>"
      ]
     },
     "execution_count": 7,
     "metadata": {},
     "output_type": "execute_result"
    }
   ],
   "source": [
    "from IPython.display import Image\n",
    "Image('pipeline.png')"
   ]
  },
  {
   "cell_type": "markdown",
   "id": "4507dc2f",
   "metadata": {},
   "source": [
    "Soorgeon correctly identified the *stages* in our original `nb.ipynb` notebook. It even detected that the last two tasks (`linear-regression`, and `random-forest-regressor` are independenf of each other!).\n",
    "\n",
    "We can also get a summary of the pipeline with `ploomber status`:"
   ]
  },
  {
   "cell_type": "code",
   "execution_count": 8,
   "id": "35a570aa",
   "metadata": {},
   "outputs": [
    {
     "name": "stdout",
     "output_type": "stream",
     "text": [
      "Loading pipeline...\n",
      "name         Last run     Outdated?    Product      Doc        Location\n",
      "                                                    (short)\n",
      "-----------  -----------  -----------  -----------  ---------  -----------\n",
      "load         7 hours ago  False        MetaProduct             /home/jovya\n",
      "             (Apr 20,                  ({'df': Fil             n/ploomber-\n",
      "             2022 at                   e('output/l             workshop/pl\n",
      "             07:03)                    oad-                    ayground/ta\n",
      "                                       df.pkl'),               sks/load.ip\n",
      "                                       'nb': File(             ynb\n",
      "                                       'output/loa\n",
      "                                       d.ipynb')})\n",
      "clean        7 hours ago  False        MetaProduct             /home/jovya\n",
      "             (Apr 20,                  ({'df': Fil             n/ploomber-\n",
      "             2022 at                   e('output/c             workshop/pl\n",
      "             07:03)                    lean-                   ayground/ta\n",
      "                                       df.pkl'),               sks/clean.i\n",
      "                                       'nb': File(             pynb\n",
      "                                       'output/cle\n",
      "                                       an.ipynb')}\n",
      "                                       )\n",
      "train-test-  7 hours ago  False        MetaProduct             /home/jovya\n",
      "split        (Apr 20,                  ({'X_test':             n/ploomber-\n",
      "             2022 at                   File('outpu             workshop/pl\n",
      "             07:03)                    t/...t-X_te             ayground/ta\n",
      "                                       st.pkl'),               sks/train-\n",
      "                                       'X_train':              test-\n",
      "                                       File('outpu             split.ipynb\n",
      "                                       t/...-X_tra\n",
      "                                       in.pkl'),\n",
      "                                       'nb': File(\n",
      "                                       'output/...\n",
      "                                       -split.ipyn\n",
      "                                       b'),\n",
      "                                       'y_test': F\n",
      "                                       ile('output\n",
      "                                       /...t-y_tes\n",
      "                                       t.pkl'),\n",
      "                                       ...})\n",
      "linear-      7 hours ago  False        MetaProduct             /home/jovya\n",
      "regression   (Apr 20,                  ({'nb': Fil             n/ploomber-\n",
      "             2022 at                   e('output/.             workshop/pl\n",
      "             07:03)                    ..ession.ip             ayground/ta\n",
      "                                       ynb')})                 sks/linear-\n",
      "                                                               regression.\n",
      "                                                               ipynb\n",
      "random-      7 hours ago  False        MetaProduct             /home/jovya\n",
      "forest-      (Apr 20,                  ({'nb': Fil             n/ploomber-\n",
      "regressor    2022 at                   e('output/.             workshop/pl\n",
      "             07:04)                    ..ressor.ip             ayground/ta\n",
      "                                       ynb')})                 sks/random-\n",
      "                                                               forest-regr\n",
      "                                                               essor.ipynb\n"
     ]
    },
    {
     "name": "stderr",
     "output_type": "stream",
     "text": [
      "100%|██████████| 5/5 [00:00<00:00, 16181.73it/s]\n"
     ]
    }
   ],
   "source": [
    "%%sh\n",
    "ploomber status"
   ]
  },
  {
   "cell_type": "markdown",
   "id": "03c6ef27",
   "metadata": {},
   "source": [
    "## 3. The `pipeline.yaml` file\n",
    "\n",
    "To develop a pipeline, users create a `pipeline.yaml` file and declare the tasks and their outputs as follows:\n",
    "\n",
    "```yaml\n",
    "tasks:\n",
    "  - source: script.py\n",
    "    product:\n",
    "      nb: output/executed.ipynb\n",
    "      data: output/data.csv\n",
    "  \n",
    "  # more tasks here...\n",
    "```\n",
    "\n",
    "* We can also change the nb output format to an HTML report\n",
    "\n",
    "The previous pipeline has a single task (`script.py`) and generates two outputs: `output/executed.ipynb` and `output/data.csv`. You may be wondering why we have a notebook as an output: Ploomber converts scripts to notebooks before execution; hence, our script is considered the source and the notebook a byproduct of the execution. Using scripts as sources (instead of notebooks) makes it simpler to use git. However, this does not mean you have to give up interactive development since Ploomber integrates with Jupyter, allowing you to edit scripts as notebooks.\n",
    "\n",
    "\n",
    "In this case, since we used `soorgeon` to refactor an existing notebook, we didn't have to write the `pipeline.yaml` file, let's take a look at the auto-generated one: [`pipeline.yaml`](playground/pipeline.yaml).\n"
   ]
  },
  {
   "cell_type": "markdown",
   "id": "cd16a1e9",
   "metadata": {},
   "source": [
    "## 4. Building the pipeline\n",
    "\n",
    "Let's build the pipeline (this will take ~30 seconds):"
   ]
  },
  {
   "cell_type": "code",
   "execution_count": 9,
   "id": "8d3edf02",
   "metadata": {},
   "outputs": [
    {
     "name": "stdout",
     "output_type": "stream",
     "text": [
      "Loading pipeline...\n",
      "name                     Ran?      Elapsed (s)    Percentage\n",
      "-----------------------  ------  -------------  ------------\n",
      "load                     False               0             0\n",
      "clean                    False               0             0\n",
      "train-test-split         False               0             0\n",
      "linear-regression        False               0             0\n",
      "random-forest-regressor  False               0             0\n"
     ]
    },
    {
     "name": "stderr",
     "output_type": "stream",
     "text": [
      "0it [00:00, ?it/s]\n"
     ]
    }
   ],
   "source": [
    "%%sh\n",
    "ploomber build"
   ]
  },
  {
   "cell_type": "markdown",
   "id": "22981ca8",
   "metadata": {},
   "source": [
    "Navigate to `playground/output/` and you'll see all the outputs: the executed notebooks, data files and trained model."
   ]
  },
  {
   "cell_type": "code",
   "execution_count": 10,
   "id": "573458b7",
   "metadata": {},
   "outputs": [
    {
     "name": "stdout",
     "output_type": "stream",
     "text": [
      "clean-df.pkl\n",
      "clean.ipynb\n",
      "linear-regression.ipynb\n",
      "load-df.pkl\n",
      "load.ipynb\n",
      "random-forest-regressor.ipynb\n",
      "train-test-split.ipynb\n",
      "train-test-split-X_test.pkl\n",
      "train-test-split-X_train.pkl\n",
      "train-test-split-y_test.pkl\n",
      "train-test-split-y_train.pkl\n"
     ]
    }
   ],
   "source": [
    "%%sh\n",
    "ls output"
   ]
  },
  {
   "cell_type": "markdown",
   "id": "88616963-6668-464b-a67a-66896c168ea2",
   "metadata": {},
   "source": [
    "## 5. Testing and quality checks"
   ]
  },
  {
   "cell_type": "markdown",
   "id": "98d17843-f3d2-4677-945b-c3e9868f3f8e",
   "metadata": {},
   "source": [
    "####  Open `tasks/train-test-split.py` as a notebook by right-clicking on it and then `Open With` -> `Notebook` and add the following code after the cell with `# noqa`:\n",
    "\n",
    "```python\n",
    "# Sample data quality checks after loading the raw data\n",
    "# Check nulls\n",
    "assert not df['HouseAge'].isnull().values.any() \n",
    "\n",
    "# Check a specific range - no outliers\n",
    "assert df['HouseAge'].between(0,100).any()\n",
    "\n",
    "# Exact expected row count\n",
    "assert len(df) == 11085\n",
    "```\n",
    "\n",
    "#### We'll do the same for `tasks/linear-regression.py`, open the file and add the tests:\n",
    "```python\n",
    "# Sample tests after the notebook ran\n",
    "# Check task test input exists\n",
    "assert Path(upstream['train-test-split']['X_test']).exists()\n",
    "\n",
    "# Check task train input exists\n",
    "assert Path(upstream['train-test-split']['y_train']).exists()\n",
    "\n",
    "# Validating output type\n",
    "assert 'pkl' in upstream['train-test-split']['X_test']\n",
    "```"
   ]
  },
  {
   "cell_type": "code",
   "execution_count": null,
   "id": "6100834a-4dae-4689-bfd3-43f46029c65a",
   "metadata": {},
   "outputs": [],
   "source": [
    "%%sh\n",
    "ploomber build"
   ]
  },
  {
   "cell_type": "markdown",
   "id": "f8fc1b9c",
   "metadata": {
    "tags": []
   },
   "source": [
    "## 6. Maintaining the pipeline\n",
    "\n",
    "Let's look again at our pipeline plot:"
   ]
  },
  {
   "cell_type": "code",
   "execution_count": null,
   "id": "4420e9ee-e72f-4373-a506-e325e60494d8",
   "metadata": {},
   "outputs": [],
   "source": [
    "%%sh\n",
    "ploomber plot"
   ]
  },
  {
   "cell_type": "code",
   "execution_count": null,
   "id": "5723ce84",
   "metadata": {},
   "outputs": [],
   "source": [
    "Image('pipeline.png')"
   ]
  },
  {
   "cell_type": "markdown",
   "id": "d7b00125",
   "metadata": {},
   "source": [
    "The arrows in the diagram represent input/output relations, hence, determine execution order. For example, the first task (`load`) loads some data, then `clean` uses such data as input and process it, then `train-test-split` splits our dataset in training and test, finally, we use those datasets to train a linear regression and a random forest regressor.\n",
    "\n",
    "Soorgeon extracted and declared this dependencies for us, but if we want to modify the existing pipeline, we need to declare such dependencies. Let's see how.\n",
    "\n",
    "\n",
    "## 7. Adding a new task\n",
    "\n",
    "Let's say we want to train another model and decide to try [Gradient Boosting Regressor](https://scikit-learn.org/stable/modules/generated/sklearn.ensemble.GradientBoostingRegressor.html#sklearn.ensemble.GradientBoostingRegressor). First, we modify the `pipeline.yaml` file and add a new task:\n",
    "\n",
    "####  Open `pipeline.yaml` and add the following lines at the end\n",
    "\n",
    "```yaml\n",
    "- source: tasks/gradient-boosting-regressor.py\n",
    "  product:\n",
    "    nb: output/gradient-boosting-regressor.ipynb\n",
    "```\n",
    "\n",
    "Now, let's create a base file by executing `ploomber scaffold`:"
   ]
  },
  {
   "cell_type": "code",
   "execution_count": null,
   "id": "dd9f13e8",
   "metadata": {},
   "outputs": [],
   "source": [
    "%%sh\n",
    "ploomber scaffold"
   ]
  },
  {
   "cell_type": "markdown",
   "id": "b11b2375",
   "metadata": {},
   "source": [
    "Let's see how the plot looks now:"
   ]
  },
  {
   "cell_type": "code",
   "execution_count": null,
   "id": "746274ff",
   "metadata": {},
   "outputs": [],
   "source": [
    "%%sh\n",
    "ploomber plot"
   ]
  },
  {
   "cell_type": "code",
   "execution_count": null,
   "id": "1fdcd894",
   "metadata": {},
   "outputs": [],
   "source": [
    "from IPython.display import Image\n",
    "Image('pipeline.png')"
   ]
  },
  {
   "cell_type": "markdown",
   "id": "e007d35c",
   "metadata": {},
   "source": [
    "You can see that Ploomber recognizes the new file, but it doesn't have any dependency, so let's tell Ploomber that it should execute after `train-test-split`:"
   ]
  },
  {
   "cell_type": "markdown",
   "id": "0873debf",
   "metadata": {},
   "source": [
    "####  Open `tasks/gradient-boosting-regressor.py` as a notebook by right-clicking on it and then `Open With` -> `Notebook`:\n",
    "\n",
    "![lab-open-with-notebook](images/lab-open-with-notebook.png)\n",
    "\n",
    "At the top of the notebook, you'll see the following:\n",
    "\n",
    "```python\n",
    "upstream = None\n",
    "```\n",
    "\n",
    "This special variable indicates which tasks should execute before the notebook we're currently working on. In this case, we want to get training data so we can train our new model so we change the `upstream` variable:\n",
    "\n",
    "```python\n",
    "upstream = ['train-test-split']\n",
    "```\n",
    "\n",
    "Let's generate the plot again:"
   ]
  },
  {
   "cell_type": "code",
   "execution_count": null,
   "id": "893988aa",
   "metadata": {},
   "outputs": [],
   "source": [
    "%%sh\n",
    "ploomber plot"
   ]
  },
  {
   "cell_type": "code",
   "execution_count": null,
   "id": "6715b5f5",
   "metadata": {},
   "outputs": [],
   "source": [
    "from IPython.display import Image\n",
    "Image('pipeline.png')"
   ]
  },
  {
   "cell_type": "markdown",
   "id": "f063276d",
   "metadata": {
    "lines_to_next_cell": 2
   },
   "source": [
    "Ploomber now recognizes our new node!\n",
    "\n",
    "####  Open `tasks/gradient-boosting-regressor.py` as a notebook by right-clicking on it and then `Open With` -> `Notebook` and add the following code:\n",
    "\n",
    "```python\n",
    "from pathlib import Path\n",
    "import pickle\n",
    "\n",
    "import seaborn as sns\n",
    "from sklearn.ensemble import GradientBoostingRegressor\n",
    "\n",
    "y_train = pickle.loads(Path(upstream['train-test-split']['y_train']).read_bytes())\n",
    "y_test = pickle.loads(Path(upstream['train-test-split']['y_test']).read_bytes())\n",
    "X_test = pickle.loads(Path(upstream['train-test-split']['X_test']).read_bytes())\n",
    "X_train = pickle.loads(Path(upstream['train-test-split']['X_train']).read_bytes())\n",
    "\n",
    "gbr = GradientBoostingRegressor()\n",
    "gbr.fit(X_train, y_train)\n",
    "\n",
    "y_pred = gbr.predict(X_test)\n",
    "sns.scatterplot(x=y_test, y=y_pred)\n",
    "```\n"
   ]
  },
  {
   "cell_type": "markdown",
   "id": "4a782b07",
   "metadata": {},
   "source": [
    "## 8. Incremental builds\n",
    "\n",
    "Data workflows require a lot of iteration. For example, you may want to generate a new feature or model. However, it's wasteful to re-execute every task with every minor change. Therefore, one of Ploomber's core features is incremental builds, which automatically skip tasks whose source code hasn't changed.\n",
    "\n",
    "Run the pipeline again:"
   ]
  },
  {
   "cell_type": "code",
   "execution_count": null,
   "id": "e52a0ee5-c0b3-42a1-bd4c-b8fc61270905",
   "metadata": {},
   "outputs": [],
   "source": [
    "%%sh\n",
    "ploomber build"
   ]
  },
  {
   "cell_type": "markdown",
   "id": "c220e5bd",
   "metadata": {},
   "source": [
    "You can see that only the `gradient-boosting-regressor` task ran!\n",
    "\n",
    "Incremental builds allow us to iterate faster without keeping track of task changes.\n",
    "\n",
    "Check out [`playground/output/gradient-boosting-regressor.ipynb`](playground/output/gradient-boosting-regressor.ipynb), which contains the output notebooks with the model evaluation plot."
   ]
  },
  {
   "cell_type": "markdown",
   "id": "bea8cff3-1cf7-48c7-95e9-e415c6ec287d",
   "metadata": {},
   "source": [
    "## 9. Parallel execution + Ploomber cloud execution\n",
    "This section can run locally or on the cloud.\n",
    "To setup the cloud we'll need to register for an [api key](https://docs.ploomber.io/en/latest/cloud/index.html)\n"
   ]
  },
  {
   "cell_type": "markdown",
   "id": "eb216910-63bd-494e-8bc9-d0b37870cbe9",
   "metadata": {},
   "source": [
    "Ploomber cloud allows you to scale your experiments into the cloud without provisioning machines and without dealing with infrastrucutres. \n",
    "####  Open `playground/pipeline.yaml` and add the following code instead of the source task:\n",
    "```yaml\n",
    "- source: tasks/random-forest-regressor.py\n",
    "```\n",
    "\n",
    "This is how your task should look like in the end\n",
    "```yaml\n",
    "- source: tasks/random-forest-regressor.py\n",
    "  name: random-forest-\n",
    "  product:\n",
    "    nb: output/random-forest-regressor.ipynb\n",
    "  grid:\n",
    "        # creates 4 tasks (2 * 2)\n",
    "        n_estimators: [5, 10]\n",
    "        criterion: [gini, entropy]\n",
    "```\n",
    "\n",
    "In addition, we'll need to add a flag to tell the pipeline to execute in parallel.\n",
    "#### Open `playground/pipeline.yaml` and add the following code above the `-tasks` section (line 1):\n",
    "```yaml\n",
    "# Execute independent tasks in parallel\n",
    "executor: parallel\n",
    "```"
   ]
  },
  {
   "cell_type": "code",
   "execution_count": 10,
   "id": "ef672558-6868-44bc-b455-8a87786c1463",
   "metadata": {},
   "outputs": [
    {
     "name": "stdout",
     "output_type": "stream",
     "text": [
      "Loading pipeline...\n",
      "Plot saved at: pipeline.png\n"
     ]
    },
    {
     "name": "stderr",
     "output_type": "stream",
     "text": [
      "100%|██████████| 8/8 [00:00<00:00, 15448.63it/s]\n",
      "/opt/conda/lib/python3.9/site-packages/ploomber/dag/dag.py:405: UserWarning: \n",
      "=========================== DAG render with warnings ===========================\n",
      "- NotebookRunner: random-forest-0 -> MetaProduct({'nb': File('output/...ssor-0.ipynb')}) -\n",
      "- /home/jovyan/ploomber-workshop/playground/tasks/random-forest-regressor.ipynb -\n",
      "These parameters are not used in the task's source code: 'criterion', and 'n_estimators'\n",
      "- NotebookRunner: random-forest-1 -> MetaProduct({'nb': File('output/...ssor-1.ipynb')}) -\n",
      "- /home/jovyan/ploomber-workshop/playground/tasks/random-forest-regressor.ipynb -\n",
      "These parameters are not used in the task's source code: 'criterion', and 'n_estimators'\n",
      "- NotebookRunner: random-forest-2 -> MetaProduct({'nb': File('output/...ssor-2.ipynb')}) -\n",
      "- /home/jovyan/ploomber-workshop/playground/tasks/random-forest-regressor.ipynb -\n",
      "These parameters are not used in the task's source code: 'criterion', and 'n_estimators'\n",
      "- NotebookRunner: random-forest-3 -> MetaProduct({'nb': File('output/...ssor-3.ipynb')}) -\n",
      "- /home/jovyan/ploomber-workshop/playground/tasks/random-forest-regressor.ipynb -\n",
      "These parameters are not used in the task's source code: 'criterion', and 'n_estimators'\n",
      "============================== Summary (4 tasks) ===============================\n",
      "NotebookRunner: random-forest-0 -> MetaProduct({'nb': File('output/...ssor-0.ipynb')})\n",
      "NotebookRunner: random-forest-1 -> MetaProduct({'nb': File('output/...ssor-1.ipynb')})\n",
      "NotebookRunner: random-forest-2 -> MetaProduct({'nb': File('output/...ssor-2.ipynb')})\n",
      "NotebookRunner: random-forest-3 -> MetaProduct({'nb': File('output/...ssor-3.ipynb')})\n",
      "=========================== DAG render with warnings ===========================\n",
      "\n",
      "  warnings.warn(str(warnings_))\n"
     ]
    }
   ],
   "source": [
    "%%sh\n",
    "ploomber plot"
   ]
  },
  {
   "cell_type": "code",
   "execution_count": 11,
   "id": "b303f8c0-396c-4408-9e3d-fccfb10b3a16",
   "metadata": {},
   "outputs": [
    {
     "data": {
      "image/png": "[encoded data removed]",
      "text/plain": [
       "<IPython.core.display.Image object>"
      ]
     },
     "execution_count": 11,
     "metadata": {},
     "output_type": "execute_result"
    }
   ],
   "source": [
    "from IPython.display import Image\n",
    "Image('pipeline.png')"
   ]
  },
  {
   "cell_type": "code",
   "execution_count": 12,
   "id": "f9a79c86",
   "metadata": {},
   "outputs": [
    {
     "name": "stdout",
     "output_type": "stream",
     "text": [
      "Loading pipeline...\n",
      "Finished tasks so far: {'train-test-split', 'load', 'linear-regression', 'clean'}\n",
      "Remaining tasks: {'random-forest-1', 'random-forest-3', 'random-forest-2', 'random-forest-0'}\n",
      "Finished 4 out of 8 tasks\n",
      "Finished tasks so far: {'train-test-split', 'load', 'linear-regression', 'clean'}\n",
      "Remaining tasks: {'random-forest-1', 'random-forest-3', 'random-forest-2', 'random-forest-0'}\n",
      "Finished 4 out of 8 tasks\n",
      "Finished tasks so far: {'train-test-split', 'load', 'linear-regression', 'clean'}\n",
      "Remaining tasks: {'random-forest-1', 'random-forest-3', 'random-forest-2', 'random-forest-0'}\n",
      "Finished 4 out of 8 tasks\n",
      "Finished tasks so far: {'linear-regression', 'clean', 'load', 'random-forest-1', 'train-test-split', 'random-forest-0'}\n",
      "Remaining tasks: {'random-forest-3', 'random-forest-2'}\n",
      "Finished 6 out of 8 tasks\n",
      "Finished tasks so far: {'linear-regression', 'clean', 'load', 'random-forest-1', 'train-test-split', 'random-forest-0'}\n",
      "Remaining tasks: {'random-forest-3', 'random-forest-2'}\n",
      "Finished 6 out of 8 tasks\n",
      "name               Ran?      Elapsed (s)    Percentage\n",
      "-----------------  ------  -------------  ------------\n",
      "random-forest-0    True          33.4366       27.3785\n",
      "random-forest-1    True          33.4219       27.3665\n",
      "random-forest-2    True          28.0493       22.9673\n",
      "random-forest-3    True          27.2193       22.2877\n",
      "load               False          0             0\n",
      "clean              False          0             0\n",
      "train-test-split   False          0             0\n",
      "linear-regression  False          0             0\n"
     ]
    },
    {
     "name": "stderr",
     "output_type": "stream",
     "text": [
      "/opt/conda/lib/python3.9/site-packages/ploomber/dag/dag.py:405: UserWarning: \n",
      "=========================== DAG render with warnings ===========================\n",
      "- NotebookRunner: random-forest-0 -> MetaProduct({'nb': File('output/...ssor-0.ipynb')}) -\n",
      "- /home/jovyan/ploomber-workshop/playground/tasks/random-forest-regressor.ipynb -\n",
      "These parameters are not used in the task's source code: 'criterion', and 'n_estimators'\n",
      "- NotebookRunner: random-forest-1 -> MetaProduct({'nb': File('output/...ssor-1.ipynb')}) -\n",
      "- /home/jovyan/ploomber-workshop/playground/tasks/random-forest-regressor.ipynb -\n",
      "These parameters are not used in the task's source code: 'criterion', and 'n_estimators'\n",
      "- NotebookRunner: random-forest-2 -> MetaProduct({'nb': File('output/...ssor-2.ipynb')}) -\n",
      "- /home/jovyan/ploomber-workshop/playground/tasks/random-forest-regressor.ipynb -\n",
      "These parameters are not used in the task's source code: 'criterion', and 'n_estimators'\n",
      "- NotebookRunner: random-forest-3 -> MetaProduct({'nb': File('output/...ssor-3.ipynb')}) -\n",
      "- /home/jovyan/ploomber-workshop/playground/tasks/random-forest-regressor.ipynb -\n",
      "These parameters are not used in the task's source code: 'criterion', and 'n_estimators'\n",
      "============================== Summary (4 tasks) ===============================\n",
      "NotebookRunner: random-forest-0 -> MetaProduct({'nb': File('output/...ssor-0.ipynb')})\n",
      "NotebookRunner: random-forest-1 -> MetaProduct({'nb': File('output/...ssor-1.ipynb')})\n",
      "NotebookRunner: random-forest-2 -> MetaProduct({'nb': File('output/...ssor-2.ipynb')})\n",
      "NotebookRunner: random-forest-3 -> MetaProduct({'nb': File('output/...ssor-3.ipynb')})\n",
      "=========================== DAG render with warnings ===========================\n",
      "\n",
      "  warnings.warn(str(warnings_))\n",
      "Executing: 100%|██████████| 7/7 [00:33<00:00,  4.75s/cell]\n",
      "Executing: 100%|██████████| 7/7 [00:33<00:00,  4.76s/cell]\n",
      "Executing: 100%|██████████| 7/7 [00:27<00:00,  3.87s/cell]\n",
      "Executing: 100%|██████████| 7/7 [00:27<00:00,  3.99s/cell]\n"
     ]
    }
   ],
   "source": [
    "%%sh\n",
    "ploomber build"
   ]
  },
  {
   "cell_type": "markdown",
   "id": "f1025c61",
   "metadata": {},
   "source": [
    "## 10. Execution in the cloud\n",
    "\n",
    "When working with datasets that fit in memory, running your pipeline is simple enough, but sometimes you may need more computing power for your analysis. Ploomber makes it simple to execute your code in a distributed environment without code changes.\n",
    "\n",
    "Check out [Soopervisor](https://soopervisor.readthedocs.io), the package that implements exporting Ploomber projects in the cloud with support for:\n",
    "\n",
    "* [Kubernetes (Argo Workflows)](https://soopervisor.readthedocs.io/en/latest/tutorials/kubernetes.html)\n",
    "* [AWS Batch](https://soopervisor.readthedocs.io/en/latest/tutorials/aws-batch.html)\n",
    "* [Airflow](https://soopervisor.readthedocs.io/en/latest/tutorials/airflow.html)"
   ]
  },
  {
   "cell_type": "markdown",
   "id": "c662eb8e",
   "metadata": {},
   "source": [
    "# 11. Resources\n",
    "\n",
    "Thanks for taking the time to go through this tutorial! We hope you consider using Ploomber for your next project. If you have any questions or need help, please reach out to us! (contact info below).\n",
    "\n",
    "Here are a few resources to dig deeper:\n",
    "\n",
    "* [GitHub](https://github.com/ploomber/ploomber)\n",
    "* [Documentation](https://ploomber.readthedocs.io/)\n",
    "* [Code examples](https://github.com/ploomber/projects)\n",
    "* [JupyterCon 2020 talk](https://www.youtube.com/watch?v=M6mtgPfsA3M)\n",
    "* [Argo Community Meeting talk](https://youtu.be/FnpXyg-5W_c)\n",
    "* [Pangeo Showcase talk (AWS Batch demo)](https://youtu.be/XCgX1AszVF4)\n",
    "\n",
    "    ## Contact\n",
    "\n",
    "* Join us on Slack: [http://ploomber.io/community](http://ploomber.io/community)\n",
    "* Twitter: [@ploomber](https://twitter.com/ploomber)\n",
    "* E-mail: [contact@ploomber.io](mailto:contact@ploomber.io)"
   ]
  }
 ],
 "metadata": {
  "kernelspec": {
   "display_name": "Python 3 (ipykernel)",
   "language": "python",
   "name": "python3"
  },
  "language_info": {
   "codemirror_mode": {
    "name": "ipython",
    "version": 3
   },
   "file_extension": ".py",
   "mimetype": "text/x-python",
   "name": "python",
   "nbconvert_exporter": "python",
   "pygments_lexer": "ipython3",
   "version": "3.9.10"
  }
 },
 "nbformat": 4,
 "nbformat_minor": 5
}
